{
 "cells": [
  {
   "cell_type": "code",
   "execution_count": 1,
   "metadata": {},
   "outputs": [],
   "source": [
    "import threading\n",
    "import queue\n",
    "import cProfile\n",
    "import itertools\n",
    "import numpy as np"
   ]
  },
  {
   "cell_type": "code",
   "execution_count": 2,
   "metadata": {},
   "outputs": [],
   "source": [
    "in_queue = queue.Queue()\n",
    "out_queue = queue.Queue()"
   ]
  },
  {
   "cell_type": "code",
   "execution_count": 3,
   "metadata": {},
   "outputs": [],
   "source": [
    "def random_number_threading():\n",
    "    while True:\n",
    "        n = in_queue.get()\n",
    "        if n == \"STOP\":\n",
    "            return\n",
    "        random_numbers = np.random.rand(n)\n",
    "        out_queue.put(random_numbers)"
   ]
  },
  {
   "cell_type": "code",
   "execution_count": 4,
   "metadata": {},
   "outputs": [],
   "source": [
    "def generate_random_numbers(show_output, up_to):\n",
    "    thread = threading.Thread(target=random_number_threading)\n",
    "    thread.start()\n",
    "    for i in range(up_to):\n",
    "        in_queue.put(i)\n",
    "        random_nums = out_queue.get()\n",
    "        if show_output:\n",
    "            print(random_nums)\n",
    "    in_queue.put(\"STOP\")\n",
    "    thread.join()"
   ]
  },
  {
   "cell_type": "code",
   "execution_count": 5,
   "metadata": {},
   "outputs": [
    {
     "name": "stdout",
     "output_type": "stream",
     "text": [
      "[]\n",
      "[0.33463445]\n",
      "[0.2365773 0.7472175]\n",
      "[0.57472817 0.40924828 0.41383936]\n",
      "[0.37073834 0.03778989 0.15214711 0.93295525]\n",
      "[0.80880402 0.63801473 0.74398502 0.21178209 0.17550453]\n",
      "[0.86432564 0.18970221 0.19424957 0.79010612 0.84340262 0.49685915]\n",
      "[0.46660158 0.09442849 0.00693373 0.49306517 0.72678374 0.20271225\n",
      " 0.73219864]\n",
      "[0.03087201 0.04441938 0.4882512  0.45264701 0.23752562 0.51168345\n",
      " 0.85740641 0.40150812]\n",
      "[0.9820383  0.61639512 0.32275108 0.19046151 0.23978491 0.95658956\n",
      " 0.7432129  0.29416516 0.8832993 ]\n"
     ]
    }
   ],
   "source": [
    "generate_random_numbers(True, 10)"
   ]
  },
  {
   "cell_type": "code",
   "execution_count": 6,
   "metadata": {},
   "outputs": [
    {
     "name": "stdout",
     "output_type": "stream",
     "text": [
      "         740059 function calls in 2.418 seconds\n",
      "\n",
      "   Ordered by: standard name\n",
      "\n",
      "   ncalls  tottime  percall  cumtime  percall filename:lineno(function)\n",
      "        1    0.044    0.044    2.418    2.418 <ipython-input-4-2824eefd5a03>:1(generate_random_numbers)\n",
      "        1    0.000    0.000    2.418    2.418 <string>:1(<module>)\n",
      "        1    0.000    0.000    0.000    0.000 _weakrefset.py:38(_remove)\n",
      "        1    0.000    0.000    0.000    0.000 _weakrefset.py:81(add)\n",
      "    20001    0.046    0.000    0.155    0.000 queue.py:121(put)\n",
      "    20000    0.109    0.000    2.219    0.000 queue.py:153(get)\n",
      "    40000    0.014    0.000    0.020    0.000 queue.py:208(_qsize)\n",
      "    20001    0.008    0.000    0.010    0.000 queue.py:212(_put)\n",
      "    20000    0.008    0.000    0.011    0.000 queue.py:216(_get)\n",
      "        1    0.000    0.000    0.000    0.000 threading.py:1017(_wait_for_tstate_lock)\n",
      "        2    0.000    0.000    0.000    0.000 threading.py:1095(daemon)\n",
      "        1    0.000    0.000    0.000    0.000 threading.py:1177(_make_invoke_excepthook)\n",
      "        2    0.000    0.000    0.000    0.000 threading.py:1306(current_thread)\n",
      "        1    0.000    0.000    0.000    0.000 threading.py:222(__init__)\n",
      "    40002    0.012    0.000    0.019    0.000 threading.py:246(__enter__)\n",
      "    40002    0.017    0.000    0.021    0.000 threading.py:249(__exit__)\n",
      "    20001    0.006    0.000    0.009    0.000 threading.py:255(_release_save)\n",
      "    20001    0.011    0.000    0.019    0.000 threading.py:258(_acquire_restore)\n",
      "    60002    0.019    0.000    0.034    0.000 threading.py:261(_is_owned)\n",
      "    20001    0.060    0.000    2.011    0.000 threading.py:270(wait)\n",
      "    40001    0.067    0.000    0.127    0.000 threading.py:341(notify)\n",
      "        1    0.000    0.000    0.000    0.000 threading.py:505(__init__)\n",
      "        2    0.000    0.000    0.000    0.000 threading.py:513(is_set)\n",
      "        1    0.000    0.000    0.000    0.000 threading.py:540(wait)\n",
      "        1    0.000    0.000    0.000    0.000 threading.py:734(_newname)\n",
      "        1    0.000    0.000    0.000    0.000 threading.py:761(__init__)\n",
      "        1    0.000    0.000    0.000    0.000 threading.py:834(start)\n",
      "        1    0.000    0.000    0.000    0.000 threading.py:944(_stop)\n",
      "        1    0.000    0.000    0.000    0.000 threading.py:979(join)\n",
      "    20002    0.041    0.000    0.041    0.000 {built-in method _thread.allocate_lock}\n",
      "        2    0.000    0.000    0.000    0.000 {built-in method _thread.get_ident}\n",
      "        1    0.000    0.000    0.000    0.000 {built-in method _thread.start_new_thread}\n",
      "        1    0.000    0.000    2.418    2.418 {built-in method builtins.exec}\n",
      "    40000    0.006    0.000    0.006    0.000 {built-in method builtins.len}\n",
      "    40002    0.006    0.000    0.006    0.000 {method '__enter__' of '_thread.lock' objects}\n",
      "    40002    0.004    0.000    0.004    0.000 {method '__exit__' of '_thread.lock' objects}\n",
      "   120006    1.893    0.000    1.893    0.000 {method 'acquire' of '_thread.lock' objects}\n",
      "        1    0.000    0.000    0.000    0.000 {method 'add' of 'set' objects}\n",
      "    40002    0.005    0.000    0.005    0.000 {method 'append' of 'collections.deque' objects}\n",
      "        1    0.000    0.000    0.000    0.000 {method 'disable' of '_lsprof.Profiler' objects}\n",
      "        2    0.000    0.000    0.000    0.000 {method 'discard' of 'set' objects}\n",
      "        1    0.000    0.000    0.000    0.000 {method 'locked' of '_thread.lock' objects}\n",
      "    20000    0.003    0.000    0.003    0.000 {method 'popleft' of 'collections.deque' objects}\n",
      "    40003    0.035    0.000    0.035    0.000 {method 'release' of '_thread.lock' objects}\n",
      "    20001    0.004    0.000    0.004    0.000 {method 'remove' of 'collections.deque' objects}\n",
      "\n",
      "\n"
     ]
    }
   ],
   "source": [
    "cProfile.run(\"generate_random_numbers(False, 20000)\")"
   ]
  },
  {
   "cell_type": "code",
   "execution_count": null,
   "metadata": {},
   "outputs": [],
   "source": []
  }
 ],
 "metadata": {
  "kernelspec": {
   "display_name": "Python 3",
   "language": "python",
   "name": "python3"
  },
  "language_info": {
   "codemirror_mode": {
    "name": "ipython",
    "version": 3
   },
   "file_extension": ".py",
   "mimetype": "text/x-python",
   "name": "python",
   "nbconvert_exporter": "python",
   "pygments_lexer": "ipython3",
   "version": "3.8.5"
  }
 },
 "nbformat": 4,
 "nbformat_minor": 4
}
